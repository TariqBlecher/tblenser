{
 "cells": [
  {
   "cell_type": "code",
   "execution_count": 16,
   "metadata": {},
   "outputs": [
    {
     "name": "stdout",
     "output_type": "stream",
     "text": [
      "sersic\n",
      "sersic\n",
      "sersic\n",
      "sersic\n",
      "sersic\n",
      "sersic\n",
      "sersic\n",
      "sersic\n",
      "sersic\n",
      "sersic\n",
      "sersic\n",
      "sersic\n",
      "sersic\n",
      "sersic\n",
      "sersic\n",
      "sersic\n",
      "sersic\n",
      "sersic\n",
      "sersic\n",
      "sersic\n",
      "sersic\n",
      "sersic\n",
      "sersic\n",
      "sersic\n",
      "sersic\n",
      "sersic\n",
      "sersic\n",
      "sersic\n",
      "sersic\n",
      "sersic\n",
      "sersic\n",
      "sersic\n",
      "sersic\n",
      "sersic\n",
      "sersic\n",
      "sersic\n",
      "sersic\n",
      "sersic\n",
      "sersic\n",
      "sersic\n",
      "sersic\n",
      "sersic\n",
      "sersic\n",
      "sersic\n",
      "sersic\n",
      "sersic\n",
      "sersic\n",
      "sersic\n",
      "sersic\n",
      "sersic\n",
      "sersic\n",
      "sersic\n",
      "sersic\n",
      "sersic\n",
      "sersic\n",
      "sersic\n",
      "sersic\n",
      "sersic\n",
      "sersic\n",
      "sersic\n",
      "sersic\n",
      "sersic\n",
      "sersic\n",
      "sersic\n"
     ]
    }
   ],
   "source": [
    "from lensinstance import LensInstance\n",
    "import numpy as np\n",
    "from copy import deepcopy\n",
    "from collections import OrderedDict\n",
    "\n",
    "#Default parameters\n",
    "lens_dict = {\n",
    "    'v_sigma_kms': 262,\n",
    "    'ellipticity': 0.24,\n",
    "    'position_angle_deg_eastofnorth': 57.3,\n",
    "    'zl': 0.095,\n",
    "    'xmin_arcsec': -3,\n",
    "    'xmax_arcsec': 3,\n",
    "    'ymin_arcsec': -3,\n",
    "    'ymax_arcsec': 3,\n",
    "    'prefix': 'J1106+5228',\n",
    "    'pix_res': 0.01,\n",
    "}\n",
    "source_dict = {\n",
    "    'source_type': 'sersic',\n",
    "    'z': 0.407,\n",
    "    'density_normalisation': 1,\n",
    "    'ellipticity': 0,\n",
    "    'position_angle': 0,\n",
    "    'r_e': 0.11,\n",
    "    'sersic_index': 0.2,\n",
    "}\n",
    "\n",
    "\n",
    "#varying parameters\n",
    "N = 8\n",
    "x_offset = np.linspace(0, 0.4, N)\n",
    "y_offset = np.linspace(0, 0.4, N)\n",
    "\n",
    "mag = np.ones((N,N))\n",
    "#iteration\n",
    "for indx, off_x in enumerate(x_offset):\n",
    "    for indy, off_y in enumerate(y_offset):\n",
    "        source_dict[\"x_off\"] = off_x\n",
    "        source_dict[\"y_off\"] = off_y\n",
    "        lens_dict['prefix'] = 'test_sie_%.2f_x_%.2f_y' % (off_x, off_y)\n",
    "        lens = LensInstance(lens_dict, source_dict, 'slacs_%.2f_x_%.2f_y' % (off_x, off_y)+'.input')\n",
    "        mag[indx, indy] = lens.write_and_run()\n",
    "\n"
   ]
  },
  {
   "cell_type": "code",
   "execution_count": 17,
   "metadata": {},
   "outputs": [
    {
     "name": "stdout",
     "output_type": "stream",
     "text": [
      "Populating the interactive namespace from numpy and matplotlib\n"
     ]
    },
    {
     "data": {
      "text/plain": [
       "<matplotlib.colorbar.Colorbar at 0x7f7c4a82bd90>"
      ]
     },
     "execution_count": 17,
     "metadata": {},
     "output_type": "execute_result"
    },
    {
     "data": {
      "image/png": "[encoded data removed]",
      "text/plain": [
       "<Figure size 432x288 with 2 Axes>"
      ]
     },
     "metadata": {},
     "output_type": "display_data"
    }
   ],
   "source": [
    "%pylab inline\n",
    "imshow(mag,origin='lower',extent =[x_offset.min(),x_offset.max(),x_offset.min(),x_offset.max()])\n",
    "colorbar()"
   ]
  },
  {
   "cell_type": "code",
   "execution_count": 26,
   "metadata": {},
   "outputs": [],
   "source": []
  },
  {
   "cell_type": "code",
   "execution_count": 74,
   "metadata": {},
   "outputs": [
    {
     "data": {
      "image/png": "[encoded data removed]",
      "text/plain": [
       "<Figure size 288x288 with 1 Axes>"
      ]
     },
     "metadata": {},
     "output_type": "display_data"
    },
    {
     "data": {
      "text/plain": [
       "<Figure size 288x288 with 0 Axes>"
      ]
     },
     "metadata": {},
     "output_type": "display_data"
    },
    {
     "data": {
      "image/png": "[encoded data removed]",
      "text/plain": [
       "<Figure size 288x288 with 1 Axes>"
      ]
     },
     "metadata": {},
     "output_type": "display_data"
    },
    {
     "data": {
      "image/png": "[encoded data removed]",
      "text/plain": [
       "<Figure size 288x288 with 1 Axes>"
      ]
     },
     "metadata": {},
     "output_type": "display_data"
    },
    {
     "data": {
      "image/png": "[encoded data removed]",
      "text/plain": [
       "<Figure size 288x288 with 1 Axes>"
      ]
     },
     "metadata": {},
     "output_type": "display_data"
    }
   ],
   "source": [
    "fig =figure(figsize=(4,4))\n",
    "plot(xs0,ys0,'g.')\n",
    "show()\n",
    "fig =figure(figsize=(4,4))\n",
    "fig =figure(figsize=(4,4))\n",
    "\n",
    "plot(xs1,ys1,'b.')\n",
    "\n",
    "show()\n",
    "fig =figure(figsize=(4,4))\n",
    "\n",
    "plot(xi1,yi1,'r.')\n",
    "\n",
    "show()\n",
    "fig =figure(figsize=(4,4))\n",
    "\n",
    "plot(xi0,yi0,'y.')\n",
    "show()"
   ]
  },
  {
   "cell_type": "code",
   "execution_count": 73,
   "metadata": {
    "scrolled": true
   },
   "outputs": [],
   "source": [
    "crit=np.loadtxt('test_sie_0.00_x_0.00_y_crit.dat')\n",
    "xs0=crit[:,2]\n",
    "ys0=crit[:,3]\n",
    "xs1=crit[:,6]\n",
    "ys1=crit[:,7]\n",
    "\n",
    "xi0=crit[:,0]\n",
    "yi0=crit[:,1]\n",
    "xi1=crit[:,4]\n",
    "yi1=crit[:,5]\n"
   ]
  },
  {
   "cell_type": "code",
   "execution_count": 72,
   "metadata": {},
   "outputs": [
    {
     "name": "stderr",
     "output_type": "stream",
     "text": [
      "/usr/local/lib/python2.7/dist-packages/ipykernel_launcher.py:4: RuntimeWarning: invalid value encountered in log10\n",
      "  after removing the cwd from sys.path.\n"
     ]
    },
    {
     "data": {
      "text/plain": [
       "<matplotlib.colorbar.Colorbar at 0x7f7c4988bb10>"
      ]
     },
     "execution_count": 72,
     "metadata": {},
     "output_type": "execute_result"
    },
    {
     "data": {
      "image/png": "[encoded data removed]",
      "text/plain": [
       "<Figure size 432x288 with 2 Axes>"
      ]
     },
     "metadata": {},
     "output_type": "display_data"
    }
   ],
   "source": [
    "import pyfits as pf\n",
    "fits=pf.getdata('test_sie_0.00_x_0.00_y_lens.fits')\n",
    "inv_mag = fits[6,:,:]\n",
    "imshow(log10(inv_mag**(-1)),origin='lower',cmap='gray')\n",
    "colorbar()"
   ]
  },
  {
   "cell_type": "code",
   "execution_count": 12,
   "metadata": {},
   "outputs": [
    {
     "name": "stdout",
     "output_type": "stream",
     "text": [
      "Populating the interactive namespace from numpy and matplotlib\n"
     ]
    },
    {
     "data": {
      "image/png": "[encoded data removed]",
      "text/plain": [
       "<Figure size 432x288 with 1 Axes>"
      ]
     },
     "metadata": {},
     "output_type": "display_data"
    }
   ],
   "source": [
    "%pylab inline\n",
    "mag = 1/fits[-1,:,:]\n",
    "hist(mag.flatten(),bins=50,log=True);"
   ]
  },
  {
   "cell_type": "code",
   "execution_count": 11,
   "metadata": {
    "collapsed": true
   },
   "outputs": [],
   "source": [
    "hist?"
   ]
  },
  {
   "cell_type": "code",
   "execution_count": 29,
   "metadata": {
    "collapsed": true
   },
   "outputs": [],
   "source": [
    "mag = 1/inv_mag"
   ]
  },
  {
   "cell_type": "code",
   "execution_count": 31,
   "metadata": {},
   "outputs": [
    {
     "data": {
      "text/plain": [
       "84648.836"
      ]
     },
     "execution_count": 31,
     "metadata": {},
     "output_type": "execute_result"
    }
   ],
   "source": [
    "mag.max()"
   ]
  },
  {
   "cell_type": "code",
   "execution_count": 32,
   "metadata": {
    "collapsed": true
   },
   "outputs": [],
   "source": [
    "colorbar?"
   ]
  },
  {
   "cell_type": "code",
   "execution_count": 13,
   "metadata": {
    "collapsed": true
   },
   "outputs": [],
   "source": [
    "parm = {'x':1}"
   ]
  },
  {
   "cell_type": "code",
   "execution_count": 17,
   "metadata": {},
   "outputs": [
    {
     "data": {
      "text/plain": [
       "1"
      ]
     },
     "execution_count": 17,
     "metadata": {},
     "output_type": "execute_result"
    }
   ],
   "source": [
    "parm.pop('x')"
   ]
  },
  {
   "cell_type": "code",
   "execution_count": 18,
   "metadata": {},
   "outputs": [
    {
     "data": {
      "text/plain": [
       "{}"
      ]
     },
     "execution_count": 18,
     "metadata": {},
     "output_type": "execute_result"
    }
   ],
   "source": [
    "parm"
   ]
  },
  {
   "cell_type": "code",
   "execution_count": null,
   "metadata": {
    "collapsed": true
   },
   "outputs": [],
   "source": []
  }
 ],
 "metadata": {
  "kernelspec": {
   "display_name": "Python 2",
   "language": "python",
   "name": "python2"
  },
  "language_info": {
   "codemirror_mode": {
    "name": "ipython",
    "version": 2
   },
   "file_extension": ".py",
   "mimetype": "text/x-python",
   "name": "python",
   "nbconvert_exporter": "python",
   "pygments_lexer": "ipython2",
   "version": "2.7.12"
  }
 },
 "nbformat": 4,
 "nbformat_minor": 2
}
