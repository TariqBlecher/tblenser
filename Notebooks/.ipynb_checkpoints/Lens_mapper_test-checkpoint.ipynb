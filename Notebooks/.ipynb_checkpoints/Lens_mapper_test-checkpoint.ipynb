{
 "cells": [
  {
   "cell_type": "code",
   "execution_count": 1,
   "metadata": {
    "collapsed": true
   },
   "outputs": [],
   "source": [
    "%load_ext autoreload\n",
    "%autoreload 2\n"
   ]
  },
  {
   "cell_type": "code",
   "execution_count": 2,
   "metadata": {},
   "outputs": [
    {
     "name": "stdout",
     "output_type": "stream",
     "text": [
      "Populating the interactive namespace from numpy and matplotlib\n"
     ]
    }
   ],
   "source": [
    "from cluster_mapping import *\n",
    "%pylab inline\n",
    "import glob"
   ]
  },
  {
   "cell_type": "code",
   "execution_count": 3,
   "metadata": {},
   "outputs": [],
   "source": [
    "abell_370 = LensMapper(length_arcsec=80, pix_res=0.5)\n",
    "component1=[596,1.2,-0.6,0.26,-11,155,6]\n",
    "component2=[1316,1.5,27.3,0.31,-6.1,155,24]\n",
    "component3 =[194,0,0,0.30,-81.9,8,0]\n",
    "component4= [118,7.9,-9.8,0.26,25.7,4,0] \n",
    "abell_370.add_jaffe(*component1)\n",
    "abell_370.add_jaffe(*component2)\n",
    "abell_370.add_jaffe(*component3)\n",
    "abell_370.add_jaffe(*component4)"
   ]
  },
  {
   "cell_type": "code",
   "execution_count": 4,
   "metadata": {
    "collapsed": true
   },
   "outputs": [],
   "source": [
    "mu = abell_370.magnification_map(1, 1, 10, 10)"
   ]
  },
  {
   "cell_type": "code",
   "execution_count": 9,
   "metadata": {
    "collapsed": true
   },
   "outputs": [],
   "source": [
    "fitslist_images = sort(glob.glob('test/test*_image.fits'))\n",
    "fitslist_sources = sort(glob.glob('test/test*_source.fits'))"
   ]
  },
  {
   "cell_type": "code",
   "execution_count": 22,
   "metadata": {
    "collapsed": true
   },
   "outputs": [],
   "source": [
    "xind = zeros(fitslist_sources.shape[0])\n",
    "yind = zeros(fitslist_sources.shape[0])\n",
    "prefix = 'test'\n",
    "for ind,fits in enumerate(fitslist_sources):\n",
    "    root = fits.split('/')[-1].split('_image.fits')[0].split('test')[-1]\n",
    "    xind[ind],yind[ind] = root.split('_')"
   ]
  },
  {
   "cell_type": "code",
   "execution_count": 9,
   "metadata": {},
   "outputs": [
    {
     "name": "stdout",
     "output_type": "stream",
     "text": [
      "0.0\n",
      "0.0\n",
      "2.3626602713374793e-41\n",
      "2.0628319613038737e-41\n",
      "1.6044128478588874e-41\n",
      "1.3127109787064407e-41\n",
      "1.110764262170412e-41\n",
      "9.626683554259682e-42\n",
      "8.494300546753189e-42\n",
      "7.600179721753115e-42\n",
      "6.876321867215805e-42\n",
      "6.278347337420663e-42\n",
      "5.776051978450096e-42\n",
      "5.349819099322139e-42\n",
      "4.981833259310356e-42\n",
      "4.660429539268726e-42\n",
      "4.3779829680175464e-42\n",
      "4.427098241879136e-28\n",
      "1.2907817799417553e-18\n",
      "2.031329274729513e-18\n",
      "1.8660600710413695e-18\n",
      "1.7252242084941578e-18\n",
      "1.6041594472480027e-18\n",
      "1.4989758913924927e-18\n",
      "1.4067399051776216e-18\n",
      "1.3251945699723967e-18\n",
      "1.2525823755976112e-18\n",
      "1.187511486901986e-18\n",
      "1.1288763297128836e-18\n",
      "1.0841431791133956e-18\n",
      "1.0375402684456026e-18\n",
      "9.929151045357736e-19\n",
      "9.720105373760043e-19\n",
      "7.817900829148344e-16\n",
      "2.8331872240720775e-06\n",
      "1.3525550606897378e-05\n",
      "1.3403655049659607e-05\n",
      "1.2943537492011507e-05\n",
      "1.2508564876230965e-05\n",
      "1.2101782206268319e-05\n",
      "1.1720660441934692e-05\n",
      "1.1362778507540589e-05\n",
      "1.102614790094608e-05\n",
      "1.0709937198356842e-05\n",
      "1.0460343769553293e-05\n",
      "1.1524282892666117e-05\n",
      "1.1315387988771176e-05\n",
      "1.102337092279348e-05\n",
      "1.0882937748196032e-05\n",
      "1.0612547387381839e-05\n",
      "0.0011008835095167792\n",
      "0.03219180730678391\n",
      "0.056823123921590495\n",
      "0.07067378148645505\n",
      "0.075347245317258\n",
      "0.07597817230866274\n",
      "0.07568136364314605\n",
      "0.07594432245871632\n",
      "0.07871862198508887\n",
      "0.08710037890186773\n",
      "0.10266931991963393\n",
      "0.12299161469823132\n",
      "0.12098381188675716\n",
      "0.11875363327604939\n",
      "0.1176690638575561\n",
      "0.11555834113552527\n",
      "0.1136469255270804\n",
      "0.1365354131788718\n",
      "0.16005138135762884\n",
      "0.18415801979224716\n",
      "0.20886979312318724\n",
      "0.2338065106641084\n",
      "0.25805928450853305\n",
      "0.280708579019991\n",
      "0.30137315582084656\n",
      "0.32013003945022017\n",
      "0.3372190379786964\n",
      "0.3525299513330535\n",
      "0.3474392788865859\n",
      "0.34245779305337204\n",
      "0.34002036564020816\n",
      "0.3352480480473923\n",
      "0.3306155548803283\n",
      "0.3452135394927317\n",
      "0.3615959126446988\n",
      "0.37897131525435557\n",
      "0.39754494245315214\n",
      "0.4171178811608528\n",
      "0.43651077908455127\n",
      "0.4542702672390436\n",
      "0.4699702710985467\n",
      "0.48385094126691236\n",
      "0.49625468496908215\n",
      "0.5060445793862391\n",
      "0.5000406299582689\n",
      "0.49417485618087165\n",
      "0.49129341441773283\n",
      "0.48563017577890727\n",
      "0.48009660815327865\n",
      "0.4881748758997222\n",
      "0.5005822334446766\n",
      "0.5142004679409846\n",
      "0.5294996185921818\n",
      "0.5467677289904718\n",
      "0.5645171010795769\n",
      "0.5800786963073413\n",
      "0.5930934842477861\n",
      "0.6041783052623305\n",
      "0.6138385149274779\n",
      "0.6185392283609228\n",
      "0.6123388190554034\n",
      "0.6062611351120427\n",
      "0.603267346417382\n",
      "0.5973676604479135\n",
      "0.5915819709288193\n",
      "0.5934608334982099\n",
      "0.6033571573633327\n",
      "0.6145727858571782\n",
      "0.6278393156137492\n",
      "0.6444436259427119\n",
      "0.6633004055268725\n",
      "0.6782857041546259\n",
      "0.6897152674387461\n",
      "0.6990229718062182\n",
      "0.7069116854786648\n",
      "0.7066583932031625\n",
      "0.7005267297813106\n",
      "0.6945009663659154\n",
      "0.6915270803180417\n",
      "0.6856547255955298\n",
      "0.6798812098844029\n",
      "0.6773379338650289\n",
      "0.6854745475934428\n",
      "0.6949466017071638\n",
      "0.7066246684076947\n",
      "0.7229446397560253\n",
      "0.7479149640211049\n",
      "0.7633189899108321\n",
      "0.7736378191603142\n",
      "0.7816822572477856\n",
      "0.7883056821286363\n",
      "0.7846037604276235\n",
      "0.7786033782448517\n",
      "0.7726942081072489\n",
      "0.7697727384865669\n"
     ]
    },
    {
     "ename": "KeyboardInterrupt",
     "evalue": "",
     "output_type": "error",
     "traceback": [
      "\u001b[0;31m---------------------------------------------------------------------------\u001b[0m",
      "\u001b[0;31mKeyboardInterrupt\u001b[0m                         Traceback (most recent call last)",
      "\u001b[0;32m<ipython-input-9-050aa6164ab9>\u001b[0m in \u001b[0;36m<module>\u001b[0;34m()\u001b[0m\n\u001b[1;32m      1\u001b[0m \u001b[0;34m\u001b[0m\u001b[0m\n\u001b[1;32m      2\u001b[0m \u001b[0;32mfor\u001b[0m \u001b[0mind\u001b[0m\u001b[0;34m,\u001b[0m\u001b[0mfits\u001b[0m \u001b[0;32min\u001b[0m \u001b[0menumerate\u001b[0m\u001b[0;34m(\u001b[0m\u001b[0mfitslist_sources\u001b[0m\u001b[0;34m)\u001b[0m\u001b[0;34m:\u001b[0m\u001b[0;34m\u001b[0m\u001b[0m\n\u001b[0;32m----> 3\u001b[0;31m         \u001b[0;32mprint\u001b[0m \u001b[0mpf\u001b[0m\u001b[0;34m.\u001b[0m\u001b[0mgetdata\u001b[0m\u001b[0;34m(\u001b[0m\u001b[0mfitslist_images\u001b[0m\u001b[0;34m[\u001b[0m\u001b[0mind\u001b[0m\u001b[0;34m]\u001b[0m\u001b[0;34m)\u001b[0m\u001b[0;34m.\u001b[0m\u001b[0msum\u001b[0m\u001b[0;34m(\u001b[0m\u001b[0;34m)\u001b[0m\u001b[0;34m/\u001b[0m\u001b[0mfloat\u001b[0m\u001b[0;34m(\u001b[0m\u001b[0mpf\u001b[0m\u001b[0;34m.\u001b[0m\u001b[0mgetdata\u001b[0m\u001b[0;34m(\u001b[0m\u001b[0mfits\u001b[0m\u001b[0;34m)\u001b[0m\u001b[0;34m.\u001b[0m\u001b[0msum\u001b[0m\u001b[0;34m(\u001b[0m\u001b[0;34m)\u001b[0m\u001b[0;34m)\u001b[0m\u001b[0;34m\u001b[0m\u001b[0m\n\u001b[0m",
      "\u001b[0;32m/usr/local/lib/python2.7/dist-packages/numpy/core/_methods.pyc\u001b[0m in \u001b[0;36m_sum\u001b[0;34m(a, axis, dtype, out, keepdims)\u001b[0m\n\u001b[1;32m     30\u001b[0m \u001b[0;34m\u001b[0m\u001b[0m\n\u001b[1;32m     31\u001b[0m \u001b[0;32mdef\u001b[0m \u001b[0m_sum\u001b[0m\u001b[0;34m(\u001b[0m\u001b[0ma\u001b[0m\u001b[0;34m,\u001b[0m \u001b[0maxis\u001b[0m\u001b[0;34m=\u001b[0m\u001b[0mNone\u001b[0m\u001b[0;34m,\u001b[0m \u001b[0mdtype\u001b[0m\u001b[0;34m=\u001b[0m\u001b[0mNone\u001b[0m\u001b[0;34m,\u001b[0m \u001b[0mout\u001b[0m\u001b[0;34m=\u001b[0m\u001b[0mNone\u001b[0m\u001b[0;34m,\u001b[0m \u001b[0mkeepdims\u001b[0m\u001b[0;34m=\u001b[0m\u001b[0mFalse\u001b[0m\u001b[0;34m)\u001b[0m\u001b[0;34m:\u001b[0m\u001b[0;34m\u001b[0m\u001b[0m\n\u001b[0;32m---> 32\u001b[0;31m     \u001b[0;32mreturn\u001b[0m \u001b[0mumr_sum\u001b[0m\u001b[0;34m(\u001b[0m\u001b[0ma\u001b[0m\u001b[0;34m,\u001b[0m \u001b[0maxis\u001b[0m\u001b[0;34m,\u001b[0m \u001b[0mdtype\u001b[0m\u001b[0;34m,\u001b[0m \u001b[0mout\u001b[0m\u001b[0;34m,\u001b[0m \u001b[0mkeepdims\u001b[0m\u001b[0;34m)\u001b[0m\u001b[0;34m\u001b[0m\u001b[0m\n\u001b[0m\u001b[1;32m     33\u001b[0m \u001b[0;34m\u001b[0m\u001b[0m\n\u001b[1;32m     34\u001b[0m \u001b[0;32mdef\u001b[0m \u001b[0m_prod\u001b[0m\u001b[0;34m(\u001b[0m\u001b[0ma\u001b[0m\u001b[0;34m,\u001b[0m \u001b[0maxis\u001b[0m\u001b[0;34m=\u001b[0m\u001b[0mNone\u001b[0m\u001b[0;34m,\u001b[0m \u001b[0mdtype\u001b[0m\u001b[0;34m=\u001b[0m\u001b[0mNone\u001b[0m\u001b[0;34m,\u001b[0m \u001b[0mout\u001b[0m\u001b[0;34m=\u001b[0m\u001b[0mNone\u001b[0m\u001b[0;34m,\u001b[0m \u001b[0mkeepdims\u001b[0m\u001b[0;34m=\u001b[0m\u001b[0mFalse\u001b[0m\u001b[0;34m)\u001b[0m\u001b[0;34m:\u001b[0m\u001b[0;34m\u001b[0m\u001b[0m\n",
      "\u001b[0;31mKeyboardInterrupt\u001b[0m: "
     ]
    }
   ],
   "source": [
    "mag =\n",
    "for ind,fits in enumerate(fitslist_sources):\n",
    "        print pf.getdata(fitslist_images[ind]).sum()/float(pf.getdata(fits).sum())"
   ]
  },
  {
   "cell_type": "code",
   "execution_count": 15,
   "metadata": {
    "collapsed": true
   },
   "outputs": [],
   "source": [
    "mag = load('test/mu_map.npy')"
   ]
  },
  {
   "cell_type": "code",
   "execution_count": 10,
   "metadata": {},
   "outputs": [
    {
     "data": {
      "text/plain": [
       "(160, 160)"
      ]
     },
     "execution_count": 10,
     "metadata": {},
     "output_type": "execute_result"
    }
   ],
   "source": [
    "pf.getdata(fitslist_sources[1]).shape"
   ]
  }
 ],
 "metadata": {
  "kernelspec": {
   "display_name": "Python 2",
   "language": "python",
   "name": "python2"
  },
  "language_info": {
   "codemirror_mode": {
    "name": "ipython",
    "version": 2
   },
   "file_extension": ".py",
   "mimetype": "text/x-python",
   "name": "python",
   "nbconvert_exporter": "python",
   "pygments_lexer": "ipython2",
   "version": "2.7.12"
  }
 },
 "nbformat": 4,
 "nbformat_minor": 2
}
