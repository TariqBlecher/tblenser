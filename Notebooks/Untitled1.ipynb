{
 "cells": [
  {
   "cell_type": "code",
   "execution_count": 1,
   "metadata": {},
   "outputs": [
    {
     "name": "stdout",
     "output_type": "stream",
     "text": [
      "Populating the interactive namespace from numpy and matplotlib\n"
     ]
    }
   ],
   "source": [
    "%pylab inline"
   ]
  },
  {
   "cell_type": "code",
   "execution_count": 3,
   "metadata": {
    "collapsed": true
   },
   "outputs": [],
   "source": [
    "filetxt = open('abell2744v4/model_abell2744.input')"
   ]
  },
  {
   "cell_type": "code",
   "execution_count": 4,
   "metadata": {},
   "outputs": [
    {
     "data": {
      "text/plain": [
       "['## setting primary parameters\\n',\n",
       " 'omega     0.3\\n',\n",
       " 'lambda\\t  0.7\\n',\n",
       " 'weos\\t  -1.0\\n',\n",
       " 'hubble\\t  0.7\\n',\n",
       " 'zl\\t  0.308\\n',\n",
       " 'prefix\\t  out_abell2744\\n',\n",
       " 'xmin\\t  -80.0\\n',\n",
       " 'ymin\\t  -85.0\\n',\n",
       " 'xmax\\t  81.0\\n',\n",
       " 'ymax\\t  98.0\\n',\n",
       " 'pix_ext   0.2\\n',\n",
       " 'pix_poi   0.5\\n',\n",
       " 'maxlev\\t  4\\n',\n",
       " '\\n',\n",
       " '## some examples of secondary parameters\\n',\n",
       " 'galfile        galfile_abell2744.dat\\n',\n",
       " 'chi2_checknimg 0\\n',\n",
       " 'chi2_splane    1\\n',\n",
       " 'chi2_restart   -1\\n',\n",
       " 'addwcs         1\\n',\n",
       " 'wcs_ra0        3.58611\\n',\n",
       " 'wcs_dec0       -30.40024\\n',\n",
       " '\\n',\n",
       " '## define lenses and sources\\n',\n",
       " 'startup 7 0 1\\n',\n",
       " 'lens   nfw      3.960613e+14 -3.397677e-01  2.959851e+00  3.410440e-01 -1.299874e+01  4.183545e+00  0.000000e+00 \\n',\n",
       " 'lens   nfw      1.438768e+14 -1.864913e+01 -1.797662e+01  3.746067e-01 -5.144515e+01  9.565266e+00  0.000000e+00 \\n',\n",
       " 'lens   nfw      2.485944e+13 -2.697214e+01  3.090671e+01  7.999937e-01 -7.311822e+01  1.000000e+01  0.000000e+00 \\n',\n",
       " 'lens   gals     1.868273e+02  0.000000e+00  0.000000e+00  0.000000e+00  0.000000e+00  1.018051e+02  1.499830e+00 \\n',\n",
       " 'lens   pert     2.000000e+00  0.000000e+00  0.000000e+00  9.859616e-02  1.403274e+02  0.000000e+00  0.000000e+00 \\n',\n",
       " 'lens   mpole    2.000000e+00  0.000000e+00  0.000000e+00  4.217461e-03  7.253089e+01  3.000000e+00  2.000000e+00 \\n',\n",
       " 'lens   mpole    2.000000e+00  0.000000e+00  0.000000e+00  1.154270e-02  9.272872e+01  4.000000e+00  2.000000e+00 \\n',\n",
       " 'extend gauss %f %f %f %f %f %f %f 0\" % (self.source_dictionary[\\'z\\'],\\n',\n",
       " \"                                                                 self.source_dictionary['density_normalisation'],\\n\",\n",
       " \"                                                                 self.source_dictionary['x_off'],\\n\",\n",
       " \"                                                                 self.source_dictionary['y_off'],\\n\",\n",
       " \"                                                                 self.source_dictionary['ellipticity'],\\n\",\n",
       " \"                                                                 self.source_dictionary['position_angle'],\\n\",\n",
       " \"                                                                 self.source_dictionary['sigma_arcsec'])\\n\",\n",
       " 'end_startup\\n',\n",
       " '\\n',\n",
       " '\\n',\n",
       " '## execute commands\\n',\n",
       " 'start_command\\n',\n",
       " 'writeimage\\n',\n",
       " 'writeimage_ori\\n',\n",
       " '\\n',\n",
       " 'quit\\n',\n",
       " '\\n',\n",
       " '\\n',\n",
       " '\\n']"
      ]
     },
     "execution_count": 4,
     "metadata": {},
     "output_type": "execute_result"
    }
   ],
   "source": [
    "filetxt.readlines()"
   ]
  },
  {
   "cell_type": "code",
   "execution_count": 8,
   "metadata": {
    "collapsed": true
   },
   "outputs": [],
   "source": [
    "a=('12',3,'s','%s\\n'%(1+2))"
   ]
  },
  {
   "cell_type": "code",
   "execution_count": 9,
   "metadata": {},
   "outputs": [
    {
     "data": {
      "text/plain": [
       "('12', 3, 's', '3\\n')"
      ]
     },
     "execution_count": 9,
     "metadata": {},
     "output_type": "execute_result"
    }
   ],
   "source": [
    "a"
   ]
  },
  {
   "cell_type": "code",
   "execution_count": null,
   "metadata": {
    "collapsed": true
   },
   "outputs": [],
   "source": []
  }
 ],
 "metadata": {
  "kernelspec": {
   "display_name": "Python 2",
   "language": "python",
   "name": "python2"
  },
  "language_info": {
   "codemirror_mode": {
    "name": "ipython",
    "version": 2
   },
   "file_extension": ".py",
   "mimetype": "text/x-python",
   "name": "python",
   "nbconvert_exporter": "python",
   "pygments_lexer": "ipython2",
   "version": "2.7.12"
  }
 },
 "nbformat": 4,
 "nbformat_minor": 2
}
