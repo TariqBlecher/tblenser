{
 "cells": [
  {
   "cell_type": "code",
   "execution_count": 146,
   "metadata": {},
   "outputs": [
    {
     "name": "stdout",
     "output_type": "stream",
     "text": [
      "The autoreload extension is already loaded. To reload it, use:\n",
      "  %reload_ext autoreload\n"
     ]
    }
   ],
   "source": [
    "%load_ext autoreload\n",
    "%autoreload 2\n"
   ]
  },
  {
   "cell_type": "code",
   "execution_count": 147,
   "metadata": {
    "collapsed": true
   },
   "outputs": [],
   "source": [
    "from cluster_playground import ClusterLens\n"
   ]
  },
  {
   "cell_type": "code",
   "execution_count": 180,
   "metadata": {},
   "outputs": [
    {
     "name": "stdout",
     "output_type": "stream",
     "text": [
      "time taken 0.5\n"
     ]
    },
    {
     "data": {
      "text/plain": [
       "[<matplotlib.lines.Line2D at 0x7f1e8c17fc10>]"
      ]
     },
     "execution_count": 180,
     "metadata": {},
     "output_type": "execute_result"
    },
    {
     "data": {
      "image/png": "[encoded data removed]",
      "text/plain": [
       "<Figure size 432x288 with 1 Axes>"
      ]
     },
     "metadata": {},
     "output_type": "display_data"
    }
   ],
   "source": [
    "clusterlens = ClusterLens(pix_res=0.2,length_arcsec=50)\n",
    "clusterlens.add_sie(v_sigma_kms=500,ellipticity=0.3,x_offset=3)\n",
    "clusterlens.add_sie(v_sigma_kms=800,ellipticity=0.5,x_offset=-10)\n",
    "clusterlens.add_sie(v_sigma_kms=500,ellipticity=0.3,y_offset=4)\n",
    "\n",
    "clusterlens.write_critical_curves(1.)\n",
    "xi1,yi1,xs1,ys1,xi2,yi2,xs2,ys2 = swapaxes(loadtxt('test_crit.dat'),0,1)\n",
    "plot(xi1,yi1,'.')\n",
    "plot(xs1,ys1,'.')"
   ]
  },
  {
   "cell_type": "code",
   "execution_count": 150,
   "metadata": {},
   "outputs": [
    {
     "data": {
      "text/plain": [
       "[<matplotlib.lines.Line2D at 0x7f1e8c329d90>]"
      ]
     },
     "execution_count": 150,
     "metadata": {},
     "output_type": "execute_result"
    },
    {
     "data": {
      "image/png": "[encoded data removed]",
      "text/plain": [
       "<Figure size 432x288 with 1 Axes>"
      ]
     },
     "metadata": {},
     "output_type": "display_data"
    }
   ],
   "source": []
  },
  {
   "cell_type": "code",
   "execution_count": 14,
   "metadata": {},
   "outputs": [
    {
     "name": "stdout",
     "output_type": "stream",
     "text": [
      "time taken 1.4\n",
      "1.0299196955883332\n",
      "time taken 1.4\n",
      "2.3767269237139663\n",
      "time taken 1.4\n",
      "15.218469480389219\n",
      "time taken 1.5\n",
      "44.244557898300506\n",
      "time taken 1.5\n",
      "67.03590991023373\n"
     ]
    }
   ],
   "source": [
    "for sigma in [100,500,800,1000,1500]:\n",
    "    clusterlens  = ClusterLens()\n",
    "    clusterlens.add_jaffe(v_sigma_kms=sigma)\n",
    "    clusterlens.add_gaussian_src()\n",
    "    clusterlens.write_input_file()\n",
    "    clusterlens.run_glafic()\n",
    "    print clusterlens.calc_mag()"
   ]
  },
  {
   "cell_type": "code",
   "execution_count": 16,
   "metadata": {
    "collapsed": true
   },
   "outputs": [],
   "source": [
    "abell_370.add_gaussian_src(x_off=5)\n",
    "clusterlens.write_input_file()\n",
    "clusterlens.run_glafic()"
   ]
  },
  {
   "cell_type": "code",
   "execution_count": 189,
   "metadata": {
    "collapsed": true
   },
   "outputs": [],
   "source": [
    "abell_370 = ClusterLens(length_arcsec=100)\n",
    "component1=[596,1.2,-0.6,0.26,-11,155,6]\n",
    "component2=[1316,1.5,27.3,0.31,-6.1,155,24]\n",
    "component3 =[194,0,0,0.30,-81.9,8,0]\n",
    "component4= [118,7.9,-9.8,0.26,25.7,4,0] \n",
    "abell_370.add_jaffe(*component1)\n",
    "abell_370.add_jaffe(*component2)\n",
    "abell_370.add_jaffe(*component3)\n",
    "abell_370.add_jaffe(*component4)\n",
    "\n"
   ]
  },
  {
   "cell_type": "code",
   "execution_count": 182,
   "metadata": {},
   "outputs": [
    {
     "name": "stdout",
     "output_type": "stream",
     "text": [
      "time taken 1.9\n"
     ]
    }
   ],
   "source": [
    "abell_370.write_critical_curves(1)"
   ]
  },
  {
   "cell_type": "code",
   "execution_count": 193,
   "metadata": {
    "collapsed": true
   },
   "outputs": [],
   "source": [
    "range?"
   ]
  },
  {
   "cell_type": "code",
   "execution_count": 190,
   "metadata": {},
   "outputs": [
    {
     "name": "stdout",
     "output_type": "stream",
     "text": [
      "time taken 2.3\n",
      "14.001233733419157\n"
     ]
    }
   ],
   "source": [
    "abell_370.add_gaussian_src(x_off=1,y_off=10)\n",
    "\n",
    "abell_370.write_input_file()\n",
    "abell_370.run_glafic()\n",
    "print abell_370.calc_mag()"
   ]
  },
  {
   "cell_type": "code",
   "execution_count": 183,
   "metadata": {
    "scrolled": true
   },
   "outputs": [
    {
     "data": {
      "text/plain": [
       "[<matplotlib.lines.Line2D at 0x7f1e8b925810>]"
      ]
     },
     "execution_count": 183,
     "metadata": {},
     "output_type": "execute_result"
    },
    {
     "data": {
      "image/png": "[encoded data removed]",
      "text/plain": [
       "<Figure size 432x288 with 1 Axes>"
      ]
     },
     "metadata": {},
     "output_type": "display_data"
    }
   ],
   "source": [
    "xi1,yi1,xs1,ys1,xi2,yi2,xs2,ys2 = swapaxes(loadtxt('test_crit.dat'),0,1)\n",
    "plot(xi1,yi1,'.')\n",
    "plot(xs1,ys1,'.')"
   ]
  },
  {
   "cell_type": "code",
   "execution_count": 10,
   "metadata": {},
   "outputs": [
    {
     "name": "stdout",
     "output_type": "stream",
     "text": [
      "Populating the interactive namespace from numpy and matplotlib\n"
     ]
    }
   ],
   "source": [
    "%pylab inline\n",
    "import pyfits as pf"
   ]
  },
  {
   "cell_type": "code",
   "execution_count": 191,
   "metadata": {},
   "outputs": [
    {
     "data": {
      "text/plain": [
       "<matplotlib.image.AxesImage at 0x7f1e8c3fc8d0>"
      ]
     },
     "execution_count": 191,
     "metadata": {},
     "output_type": "execute_result"
    },
    {
     "data": {
      "image/png": "[encoded data removed]",
      "text/plain": [
       "<Figure size 432x288 with 1 Axes>"
      ]
     },
     "metadata": {},
     "output_type": "display_data"
    }
   ],
   "source": [
    "imshow(pf.getdata('test_source.fits'))"
   ]
  },
  {
   "cell_type": "code",
   "execution_count": 192,
   "metadata": {},
   "outputs": [
    {
     "data": {
      "text/plain": [
       "<matplotlib.colorbar.Colorbar at 0x7f1e8b7b49d0>"
      ]
     },
     "execution_count": 192,
     "metadata": {},
     "output_type": "execute_result"
    },
    {
     "data": {
      "image/png": "[encoded data removed]",
      "text/plain": [
       "<Figure size 432x288 with 2 Axes>"
      ]
     },
     "metadata": {},
     "output_type": "display_data"
    }
   ],
   "source": [
    "imshow(pf.getdata('test_image.fits')-pf.getdata('test_source.fits'))\n",
    "colorbar()"
   ]
  },
  {
   "cell_type": "code",
   "execution_count": null,
   "metadata": {
    "collapsed": true
   },
   "outputs": [],
   "source": []
  }
 ],
 "metadata": {
  "kernelspec": {
   "display_name": "Python 2",
   "language": "python",
   "name": "python2"
  },
  "language_info": {
   "codemirror_mode": {
    "name": "ipython",
    "version": 2
   },
   "file_extension": ".py",
   "mimetype": "text/x-python",
   "name": "python",
   "nbconvert_exporter": "python",
   "pygments_lexer": "ipython2",
   "version": "2.7.12"
  }
 },
 "nbformat": 4,
 "nbformat_minor": 2
}
